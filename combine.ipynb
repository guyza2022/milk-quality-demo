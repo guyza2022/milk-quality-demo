{
 "cells": [
  {
   "cell_type": "code",
   "execution_count": 35,
   "metadata": {},
   "outputs": [],
   "source": [
    "import pandas as pd"
   ]
  },
  {
   "cell_type": "code",
   "execution_count": 36,
   "metadata": {},
   "outputs": [],
   "source": [
    "df = pd.ExcelFile('raw_dataset2.xlsx')"
   ]
  },
  {
   "cell_type": "code",
   "execution_count": 37,
   "metadata": {},
   "outputs": [
    {
     "data": {
      "text/plain": [
       "['MTW_66', 'MTC_66', 'MNW_66', 'MNC_66']"
      ]
     },
     "execution_count": 37,
     "metadata": {},
     "output_type": "execute_result"
    }
   ],
   "source": [
    "df.sheet_names"
   ]
  },
  {
   "cell_type": "code",
   "execution_count": 38,
   "metadata": {},
   "outputs": [
    {
     "name": "stdout",
     "output_type": "stream",
     "text": [
      "(596, 233)\n",
      "(298, 233)\n",
      "(669, 233)\n",
      "(318, 233)\n"
     ]
    }
   ],
   "source": [
    "i = 0\n",
    "for sn in df.sheet_names:\n",
    "    sheet = df.parse(sn, header=0)\n",
    "    print(sheet.shape)\n",
    "    if i > 0:\n",
    "        combined = pd.concat([combined, sheet])\n",
    "    else:\n",
    "        combined = sheet\n",
    "    i+=1"
   ]
  },
  {
   "cell_type": "code",
   "execution_count": 39,
   "metadata": {},
   "outputs": [],
   "source": [
    "combined = combined.iloc[:,1:]"
   ]
  },
  {
   "cell_type": "code",
   "execution_count": 40,
   "metadata": {},
   "outputs": [
    {
     "data": {
      "text/html": [
       "<div>\n",
       "<style scoped>\n",
       "    .dataframe tbody tr th:only-of-type {\n",
       "        vertical-align: middle;\n",
       "    }\n",
       "\n",
       "    .dataframe tbody tr th {\n",
       "        vertical-align: top;\n",
       "    }\n",
       "\n",
       "    .dataframe thead th {\n",
       "        text-align: right;\n",
       "    }\n",
       "</style>\n",
       "<table border=\"1\" class=\"dataframe\">\n",
       "  <thead>\n",
       "    <tr style=\"text-align: right;\">\n",
       "      <th></th>\n",
       "      <th>Unnamed: 1</th>\n",
       "      <th>SCC</th>\n",
       "      <th>Fat</th>\n",
       "      <th>Protein</th>\n",
       "      <th>900.815134</th>\n",
       "      <th>905.995846</th>\n",
       "      <th>909.876158</th>\n",
       "      <th>913.751992</th>\n",
       "      <th>917.62335</th>\n",
       "      <th>921.490231</th>\n",
       "      <th>...</th>\n",
       "      <th>1673.904901</th>\n",
       "      <th>1676.76602</th>\n",
       "      <th>1679.622662</th>\n",
       "      <th>1683.424554</th>\n",
       "      <th>1686.270751</th>\n",
       "      <th>1689.11247</th>\n",
       "      <th>1691.949714</th>\n",
       "      <th>1694.78248</th>\n",
       "      <th>1697.61077</th>\n",
       "      <th>1701.374859</th>\n",
       "    </tr>\n",
       "  </thead>\n",
       "  <tbody>\n",
       "    <tr>\n",
       "      <th>0</th>\n",
       "      <td>MTW1</td>\n",
       "      <td>8881000</td>\n",
       "      <td>4.555</td>\n",
       "      <td>3.17</td>\n",
       "      <td>1.432292</td>\n",
       "      <td>1.422342</td>\n",
       "      <td>1.415025</td>\n",
       "      <td>1.429524</td>\n",
       "      <td>1.433800</td>\n",
       "      <td>1.436455</td>\n",
       "      <td>...</td>\n",
       "      <td>2.107516</td>\n",
       "      <td>2.108642</td>\n",
       "      <td>2.117899</td>\n",
       "      <td>2.112989</td>\n",
       "      <td>2.082770</td>\n",
       "      <td>2.149019</td>\n",
       "      <td>2.231297</td>\n",
       "      <td>2.459630</td>\n",
       "      <td>2.210461</td>\n",
       "      <td>2.318466</td>\n",
       "    </tr>\n",
       "    <tr>\n",
       "      <th>1</th>\n",
       "      <td>MTW2</td>\n",
       "      <td>8881000</td>\n",
       "      <td>4.551</td>\n",
       "      <td>3.18</td>\n",
       "      <td>1.415992</td>\n",
       "      <td>1.401686</td>\n",
       "      <td>1.418059</td>\n",
       "      <td>1.425166</td>\n",
       "      <td>1.442598</td>\n",
       "      <td>1.444522</td>\n",
       "      <td>...</td>\n",
       "      <td>2.156641</td>\n",
       "      <td>2.124154</td>\n",
       "      <td>2.112063</td>\n",
       "      <td>2.161984</td>\n",
       "      <td>2.181223</td>\n",
       "      <td>2.168208</td>\n",
       "      <td>2.162432</td>\n",
       "      <td>2.170974</td>\n",
       "      <td>2.263636</td>\n",
       "      <td>2.390094</td>\n",
       "    </tr>\n",
       "    <tr>\n",
       "      <th>2</th>\n",
       "      <td>MTW3</td>\n",
       "      <td>3622000</td>\n",
       "      <td>3.186</td>\n",
       "      <td>3.21</td>\n",
       "      <td>1.445686</td>\n",
       "      <td>1.454351</td>\n",
       "      <td>1.445714</td>\n",
       "      <td>1.444534</td>\n",
       "      <td>1.463467</td>\n",
       "      <td>1.463266</td>\n",
       "      <td>...</td>\n",
       "      <td>2.232786</td>\n",
       "      <td>2.234089</td>\n",
       "      <td>2.309634</td>\n",
       "      <td>2.332796</td>\n",
       "      <td>2.388134</td>\n",
       "      <td>2.397855</td>\n",
       "      <td>2.335921</td>\n",
       "      <td>2.303509</td>\n",
       "      <td>2.341360</td>\n",
       "      <td>2.427611</td>\n",
       "    </tr>\n",
       "    <tr>\n",
       "      <th>3</th>\n",
       "      <td>MTW4</td>\n",
       "      <td>3622000</td>\n",
       "      <td>3.184</td>\n",
       "      <td>3.20</td>\n",
       "      <td>1.453823</td>\n",
       "      <td>1.441488</td>\n",
       "      <td>1.445195</td>\n",
       "      <td>1.439905</td>\n",
       "      <td>1.466778</td>\n",
       "      <td>1.463368</td>\n",
       "      <td>...</td>\n",
       "      <td>2.276042</td>\n",
       "      <td>2.251733</td>\n",
       "      <td>2.315292</td>\n",
       "      <td>2.418508</td>\n",
       "      <td>2.205048</td>\n",
       "      <td>2.211299</td>\n",
       "      <td>2.461379</td>\n",
       "      <td>2.365657</td>\n",
       "      <td>2.461236</td>\n",
       "      <td>2.780610</td>\n",
       "    </tr>\n",
       "    <tr>\n",
       "      <th>4</th>\n",
       "      <td>MTW5</td>\n",
       "      <td>1631000</td>\n",
       "      <td>1.178</td>\n",
       "      <td>2.46</td>\n",
       "      <td>1.568280</td>\n",
       "      <td>1.597760</td>\n",
       "      <td>1.545032</td>\n",
       "      <td>1.540848</td>\n",
       "      <td>1.586477</td>\n",
       "      <td>1.584939</td>\n",
       "      <td>...</td>\n",
       "      <td>2.477821</td>\n",
       "      <td>2.536137</td>\n",
       "      <td>2.560293</td>\n",
       "      <td>2.607769</td>\n",
       "      <td>2.784831</td>\n",
       "      <td>2.452617</td>\n",
       "      <td>2.533552</td>\n",
       "      <td>2.487333</td>\n",
       "      <td>3.598820</td>\n",
       "      <td>2.355563</td>\n",
       "    </tr>\n",
       "  </tbody>\n",
       "</table>\n",
       "<p>5 rows × 232 columns</p>\n",
       "</div>"
      ],
      "text/plain": [
       "  Unnamed: 1      SCC    Fat  Protein  900.815134  905.995846  909.876158  \\\n",
       "0       MTW1  8881000  4.555     3.17    1.432292    1.422342    1.415025   \n",
       "1       MTW2  8881000  4.551     3.18    1.415992    1.401686    1.418059   \n",
       "2       MTW3  3622000  3.186     3.21    1.445686    1.454351    1.445714   \n",
       "3       MTW4  3622000  3.184     3.20    1.453823    1.441488    1.445195   \n",
       "4       MTW5  1631000  1.178     2.46    1.568280    1.597760    1.545032   \n",
       "\n",
       "   913.751992  917.62335  921.490231  ...  1673.904901  1676.76602  \\\n",
       "0    1.429524   1.433800    1.436455  ...     2.107516    2.108642   \n",
       "1    1.425166   1.442598    1.444522  ...     2.156641    2.124154   \n",
       "2    1.444534   1.463467    1.463266  ...     2.232786    2.234089   \n",
       "3    1.439905   1.466778    1.463368  ...     2.276042    2.251733   \n",
       "4    1.540848   1.586477    1.584939  ...     2.477821    2.536137   \n",
       "\n",
       "   1679.622662  1683.424554  1686.270751  1689.11247  1691.949714  1694.78248  \\\n",
       "0     2.117899     2.112989     2.082770    2.149019     2.231297    2.459630   \n",
       "1     2.112063     2.161984     2.181223    2.168208     2.162432    2.170974   \n",
       "2     2.309634     2.332796     2.388134    2.397855     2.335921    2.303509   \n",
       "3     2.315292     2.418508     2.205048    2.211299     2.461379    2.365657   \n",
       "4     2.560293     2.607769     2.784831    2.452617     2.533552    2.487333   \n",
       "\n",
       "   1697.61077  1701.374859  \n",
       "0    2.210461     2.318466  \n",
       "1    2.263636     2.390094  \n",
       "2    2.341360     2.427611  \n",
       "3    2.461236     2.780610  \n",
       "4    3.598820     2.355563  \n",
       "\n",
       "[5 rows x 232 columns]"
      ]
     },
     "execution_count": 40,
     "metadata": {},
     "output_type": "execute_result"
    }
   ],
   "source": [
    "combined.head()"
   ]
  },
  {
   "cell_type": "code",
   "execution_count": 42,
   "metadata": {},
   "outputs": [],
   "source": [
    "combined.to_excel('dataset2.xlsx',index=False)"
   ]
  },
  {
   "cell_type": "code",
   "execution_count": null,
   "metadata": {},
   "outputs": [],
   "source": []
  },
  {
   "cell_type": "code",
   "execution_count": null,
   "metadata": {},
   "outputs": [],
   "source": []
  },
  {
   "cell_type": "code",
   "execution_count": null,
   "metadata": {},
   "outputs": [],
   "source": []
  }
 ],
 "metadata": {
  "kernelspec": {
   "display_name": "pls",
   "language": "python",
   "name": "python3"
  },
  "language_info": {
   "codemirror_mode": {
    "name": "ipython",
    "version": 3
   },
   "file_extension": ".py",
   "mimetype": "text/x-python",
   "name": "python",
   "nbconvert_exporter": "python",
   "pygments_lexer": "ipython3",
   "version": "3.8.18"
  }
 },
 "nbformat": 4,
 "nbformat_minor": 2
}
